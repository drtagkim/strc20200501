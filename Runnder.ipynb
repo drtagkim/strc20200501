{
 "cells": [
  {
   "cell_type": "markdown",
   "metadata": {},
   "source": [
    "# TripAdvisor Message Send Helper"
   ]
  },
  {
   "cell_type": "markdown",
   "metadata": {},
   "source": [
    "프로파일 데이터가 있는 Excel파일은 실행 파일과 같은 경로에 있어야 합니다.\n",
    "\n",
    "아래 실행 파일의 이름을 확인하세요."
   ]
  },
  {
   "cell_type": "code",
   "execution_count": 1,
   "metadata": {},
   "outputs": [],
   "source": [
    "profile_file='cass_batllo_reviewer.xlsx'"
   ]
  },
  {
   "cell_type": "markdown",
   "metadata": {},
   "source": [
    "## 프로파일 ID 지정하기\n",
    "테스트용 아이디는 -1입니다."
   ]
  },
  {
   "cell_type": "code",
   "execution_count": 2,
   "metadata": {},
   "outputs": [],
   "source": [
    "profile_index=-1"
   ]
  },
  {
   "cell_type": "markdown",
   "metadata": {},
   "source": [
    "프로필 아이디 준비가 완료되면 아래를 실행합니다."
   ]
  },
  {
   "cell_type": "code",
   "execution_count": 3,
   "metadata": {},
   "outputs": [],
   "source": [
    "%run TripAdvisorMsgSender.ipynb"
   ]
  },
  {
   "cell_type": "code",
   "execution_count": 4,
   "metadata": {
    "scrolled": true
   },
   "outputs": [
    {
     "data": {
      "text/html": [
       "<script>alert('로그인을 먼저 하세요.');</script>"
      ],
      "text/plain": [
       "<IPython.core.display.HTML object>"
      ]
     },
     "metadata": {},
     "output_type": "display_data"
    }
   ],
   "source": [
    "fiefox=FirefoxTrip()\n",
    "rd=ReviewerData(profile_file)\n",
    "worker=Worker(fiefox,rd)\n",
    "button1=widgets.Button(description=\"Step 1!\")\n",
    "button2=widgets.Button(description='Step 2!')\n",
    "button3=widgets.Button(description='Step 3!')\n",
    "output=widgets.Output()\n",
    "button1.on_click(on_button_clicked1)\n",
    "button2.on_click(on_button_clicked2)\n",
    "button3.on_click(on_button_clicked3)"
   ]
  },
  {
   "cell_type": "code",
   "execution_count": 9,
   "metadata": {
    "scrolled": true
   },
   "outputs": [
    {
     "data": {
      "application/vnd.jupyter.widget-view+json": {
       "model_id": "79264091e3d84e1f830fa731b913171a",
       "version_major": 2,
       "version_minor": 0
      },
      "text/plain": [
       "Button(description='Step 1!', style=ButtonStyle())"
      ]
     },
     "metadata": {},
     "output_type": "display_data"
    },
    {
     "data": {
      "application/vnd.jupyter.widget-view+json": {
       "model_id": "94a57fe70d33495ab4772190394812ea",
       "version_major": 2,
       "version_minor": 0
      },
      "text/plain": [
       "Button(description='Step 2!', style=ButtonStyle())"
      ]
     },
     "metadata": {},
     "output_type": "display_data"
    },
    {
     "data": {
      "application/vnd.jupyter.widget-view+json": {
       "model_id": "e9bb4559cd94435c9b0ec4fd843eb1d9",
       "version_major": 2,
       "version_minor": 0
      },
      "text/plain": [
       "Button(description='Step 3!', style=ButtonStyle())"
      ]
     },
     "metadata": {},
     "output_type": "display_data"
    },
    {
     "data": {
      "application/vnd.jupyter.widget-view+json": {
       "model_id": "92c10ea05c5a4fde8072d5bb46b64927",
       "version_major": 2,
       "version_minor": 0
      },
      "text/plain": [
       "Output(outputs=({'output_type': 'stream', 'name': 'stdout', 'text': 'Step 2..'}, {'output_type': 'stream', 'na…"
      ]
     },
     "metadata": {},
     "output_type": "display_data"
    }
   ],
   "source": [
    "display(button1,button2,button3,output)"
   ]
  },
  {
   "cell_type": "code",
   "execution_count": 10,
   "metadata": {},
   "outputs": [],
   "source": [
    "profile_index=-1"
   ]
  },
  {
   "cell_type": "code",
   "execution_count": null,
   "metadata": {},
   "outputs": [],
   "source": []
  }
 ],
 "metadata": {
  "kernelspec": {
   "display_name": "Python 3",
   "language": "python",
   "name": "python3"
  },
  "language_info": {
   "codemirror_mode": {
    "name": "ipython",
    "version": 3
   },
   "file_extension": ".py",
   "mimetype": "text/x-python",
   "name": "python",
   "nbconvert_exporter": "python",
   "pygments_lexer": "ipython3",
   "version": "3.7.6"
  }
 },
 "nbformat": 4,
 "nbformat_minor": 4
}

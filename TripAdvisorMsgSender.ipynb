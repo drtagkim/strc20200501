{
 "cells": [
  {
   "cell_type": "markdown",
   "metadata": {},
   "source": [
    "# Input parameters"
   ]
  },
  {
   "cell_type": "markdown",
   "metadata": {},
   "source": [
    "# Code"
   ]
  },
  {
   "cell_type": "code",
   "execution_count": 1,
   "metadata": {},
   "outputs": [],
   "source": [
    "import numpy as np\n",
    "import pandas as pd\n",
    "from selenium import webdriver\n",
    "from selenium.webdriver.common.action_chains import ActionChains\n",
    "import time\n",
    "from selenium.common.exceptions import NoSuchElementException\n",
    "import sys\n",
    "import ipywidgets as widgets\n",
    "from IPython.display import display, HTML\n",
    "\n",
    "def alertBox(msg):\n",
    "        js = \"<script>alert('%s');</script>\"%(msg,)\n",
    "        display(HTML(js))\n",
    "\n",
    "class FirefoxTrip:\n",
    "    def __init__(self):\n",
    "        self.data=pd.DataFrame()\n",
    "        #driver\n",
    "        self.driver = webdriver.Firefox()\n",
    "        self.driver.set_window_size(1024,768)\n",
    "        self.driver.get(\"https://www.tripadvisor.com\")\n",
    "        alertBox(\"로그인을 먼저 하세요.\")\n",
    "    def visit(self,url):\n",
    "        self.driver.get(url)\n",
    "    def get_links(self):\n",
    "        status=True\n",
    "        try:\n",
    "            eles=self.driver.find_elements_by_css_selector('a.ui_header_link')\n",
    "            output=[ele.get_attribute('href') for ele in eles]\n",
    "        except NoSuchElementException:\n",
    "            status=False\n",
    "        if not status:\n",
    "            return status\n",
    "        self.current_links=output\n",
    "        if len(output)<=0:\n",
    "            status=False\n",
    "        else:\n",
    "            temp=pd.DataFrame({\"site\":\"CassBatllo\",\"reviwer_profile\":output})\n",
    "            self.data=pd.concat([self.data,temp])\n",
    "        return status\n",
    "    def reset_data(self):\n",
    "        self.data=pd.DataFrame()\n",
    "    def export(self,filename):\n",
    "        self.data.to_excel(filename,index=False)\n",
    "class ReviewerData:\n",
    "    def __init__(self,dfile):\n",
    "        self.dfile=dfile\n",
    "        self.read()\n",
    "    def read(self):\n",
    "        self.df=pd.read_excel(self.dfile)\n",
    "    def get(self,idx):\n",
    "        df=self.df\n",
    "        result=None\n",
    "        try:\n",
    "            result=df.loc[df['rowid']==idx,'reviwer_profile'].values[0]\n",
    "        except IndexError:\n",
    "            result=None\n",
    "        return result\n",
    "    def report(self):\n",
    "        print(\"Size of profile = \"%(self.df.shape[0],))\n",
    "class Worker:\n",
    "    def __init__(self,firefox_obj,reviewer_profile_data):\n",
    "        self.firefox=firefox_obj\n",
    "        self.reviewer_profile_data=reviewer_profile_data\n",
    "    def visit_profile(self,idx):\n",
    "        url=self.reviewer_profile_data.get(idx)\n",
    "        if url is not None:\n",
    "            self.firefox.visit(url)\n",
    "        else:\n",
    "            alertBox(\"프로파일이 존재하지 않습니다.\")\n",
    "    def open_msg_box(self):\n",
    "        w=self.firefox.driver\n",
    "        try:\n",
    "            w.find_element_by_css_selector('[class*=social-message-MessageBlock]').click()\n",
    "        except NoSuchElementException:\n",
    "            pass\n",
    "    def type_subject(self,msg):\n",
    "        w=self.firefox.driver\n",
    "        try:\n",
    "            w.find_element_by_css_selector('input[name*=subject]').send_keys(msg)\n",
    "        except NoSuchElementException:\n",
    "            pass\n",
    "    def type_message(self,msg):\n",
    "        w=self.firefox.driver\n",
    "        try:\n",
    "            w.find_element_by_css_selector('textarea[name*=body]').send_keys(msg)\n",
    "        except NoSuchElementException:\n",
    "            pass\n",
    "\n",
    "def on_button_clicked1(b):\n",
    "    output.clear_output()\n",
    "    output.append_stdout('Step 1..')\n",
    "    worker.visit_profile(profile_index)\n",
    "def on_button_clicked2(b):\n",
    "    worker.open_msg_box()\n",
    "    output.append_stdout('Step 2..')\n",
    "def on_button_clicked3(b):\n",
    "    global profile_index\n",
    "    worker.type_subject(subject_msg)\n",
    "    worker.type_message(body_msg)\n",
    "    output.append_stdout(\"...Processing!...at profile #%d\"%(profile_index,))\n",
    "    output.append_stdout(\".. OK.\")\n",
    "    profile_index+=1   "
   ]
  },
  {
   "cell_type": "markdown",
   "metadata": {},
   "source": [
    "# 실행 부분"
   ]
  },
  {
   "cell_type": "markdown",
   "metadata": {},
   "source": [
    "### 보내는 메시지 내용은 아래에서 수정합니다."
   ]
  },
  {
   "cell_type": "markdown",
   "metadata": {},
   "source": [
    "제목 부분 수정은 아래에서 합니다."
   ]
  },
  {
   "cell_type": "code",
   "execution_count": 4,
   "metadata": {},
   "outputs": [],
   "source": [
    "subject_msg=\"The CASA Battlo AR Guide Survey\""
   ]
  },
  {
   "cell_type": "markdown",
   "metadata": {},
   "source": [
    "본문에 포함될 메시지는 아래에서 수정합니다."
   ]
  },
  {
   "cell_type": "code",
   "execution_count": 5,
   "metadata": {},
   "outputs": [],
   "source": [
    "body_msg='''Dear Survey Respondent,\n",
    "\n",
    " Hello, I am a Ph.D. student in Hospitality and Tourism Management at Kyung Hee University in South Korea.\n",
    "I kindly request you to answer my survey questionnaire, if you respond to the survey questionnaire, you will be paid off USD $ 5 Amazon mobile coupon. \n",
    "Please be sure to write up your email address on the last page of the survey. I will take care of your privacy very carefully and will not share your individual information to any third party.\n",
    "Thank you for your cooperation in advance.\n",
    "Wish you all the best,\n",
    "\n",
    "Eunji Lee, PhD student. \n",
    "-Researcher name : Eunji Lee\n",
    "-Email : edreamerj@khu.ac.kr\n",
    "-Survey URL : https://docs.google.com/forms/d/e/1FAIpQLSehSlJ14kGXpeTfktWwmOnPepj8AF3ER_FfzAO4JUDg6pDtBA/viewform?usp=sf_link\n",
    "'''"
   ]
  }
 ],
 "metadata": {
  "kernelspec": {
   "display_name": "Python 3",
   "language": "python",
   "name": "python3"
  },
  "language_info": {
   "codemirror_mode": {
    "name": "ipython",
    "version": 3
   },
   "file_extension": ".py",
   "mimetype": "text/x-python",
   "name": "python",
   "nbconvert_exporter": "python",
   "pygments_lexer": "ipython3",
   "version": "3.7.6"
  }
 },
 "nbformat": 4,
 "nbformat_minor": 4
}
